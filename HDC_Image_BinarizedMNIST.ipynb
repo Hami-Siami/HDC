{
  "nbformat": 4,
  "nbformat_minor": 0,
  "metadata": {
    "colab": {
      "provenance": []
    },
    "kernelspec": {
      "name": "python3",
      "display_name": "Python 3"
    },
    "language_info": {
      "name": "python"
    }
  },
  "cells": [
    {
      "cell_type": "markdown",
      "source": [
        "$$HDC\\ Image\\ Baseline: Binarized\\ MNIST$$"
      ],
      "metadata": {
        "id": "DovafFcZv9Fr"
      }
    },
    {
      "cell_type": "markdown",
      "source": [
        "# Setup"
      ],
      "metadata": {
        "id": "yl5IGUsCv1Op"
      }
    },
    {
      "cell_type": "code",
      "execution_count": 1,
      "metadata": {
        "colab": {
          "base_uri": "https://localhost:8080/"
        },
        "id": "vhJo5ZMpvs6T",
        "outputId": "7fe1a9b8-8ee4-42c4-c88c-d91c17d7b56d"
      },
      "outputs": [
        {
          "output_type": "execute_result",
          "data": {
            "text/plain": [
              "device(type='cpu')"
            ]
          },
          "metadata": {},
          "execution_count": 1
        }
      ],
      "source": [
        "import torch\n",
        "from torch.utils.data import DataLoader, random_split\n",
        "from torchvision import datasets, transforms\n",
        "import numpy as np, time, os\n",
        "\n",
        "# Repro / device\n",
        "def set_seed(seed=123):\n",
        "    import random\n",
        "    random.seed(seed); np.random.seed(seed)\n",
        "    torch.manual_seed(seed); torch.cuda.manual_seed_all(seed)\n",
        "    os.environ[\"PYTHONHASHSEED\"] = str(seed)\n",
        "\n",
        "set_seed(123)\n",
        "DEVICE = torch.device(\"cuda\" if torch.cuda.is_available() else \"cpu\")\n",
        "DEVICE\n"
      ]
    },
    {
      "cell_type": "markdown",
      "source": [
        "# Data"
      ],
      "metadata": {
        "id": "tYdwtP_Vv4eY"
      }
    },
    {
      "cell_type": "code",
      "source": [
        "# We use raw grayscale MNIST but binarize at encode time (threshold=0.5).\n",
        "BATCH_SIZE = 512\n",
        "transform = transforms.ToTensor()\n",
        "\n",
        "train_ds = datasets.MNIST(\"/content/data\", train=True,  download=True, transform=transform)\n",
        "test_ds  = datasets.MNIST(\"/content/data\", train=False, download=True, transform=transform)\n",
        "\n",
        "train_loader = DataLoader(train_ds, batch_size=BATCH_SIZE, shuffle=True,  num_workers=2, pin_memory=False)\n",
        "test_loader  = DataLoader(test_ds,  batch_size=BATCH_SIZE, shuffle=False, num_workers=2, pin_memory=False)\n",
        "\n",
        "len(train_ds), len(test_ds)\n"
      ],
      "metadata": {
        "colab": {
          "base_uri": "https://localhost:8080/"
        },
        "id": "bSrce0rtv5Pu",
        "outputId": "94b0bf41-71f4-46c4-f98d-5318c3dc447b"
      },
      "execution_count": 2,
      "outputs": [
        {
          "output_type": "stream",
          "name": "stderr",
          "text": [
            "100%|██████████| 9.91M/9.91M [00:00<00:00, 41.1MB/s]\n",
            "100%|██████████| 28.9k/28.9k [00:00<00:00, 1.02MB/s]\n",
            "100%|██████████| 1.65M/1.65M [00:00<00:00, 9.49MB/s]\n",
            "100%|██████████| 4.54k/4.54k [00:00<00:00, 4.10MB/s]\n"
          ]
        },
        {
          "output_type": "execute_result",
          "data": {
            "text/plain": [
              "(60000, 10000)"
            ]
          },
          "metadata": {},
          "execution_count": 2
        }
      ]
    },
    {
      "cell_type": "code",
      "source": [],
      "metadata": {
        "id": "CwxgHWKXwOzT"
      },
      "execution_count": null,
      "outputs": []
    },
    {
      "cell_type": "markdown",
      "source": [
        "# Utils"
      ],
      "metadata": {
        "id": "Osd_1XnxwTPj"
      }
    },
    {
      "cell_type": "code",
      "source": [
        "@torch.no_grad()\n",
        "def bipolar_sign(x: torch.Tensor) -> torch.Tensor:\n",
        "    # We map to {-1,+1}; ties go to +1 for determinism.\n",
        "    return torch.where(x >= 0, torch.ones_like(x), -torch.ones_like(x))\n",
        "\n",
        "def _rand_bip(shape, device=None):\n",
        "    device = device or DEVICE\n",
        "    r = torch.randint(0, 2, shape, device=device, dtype=torch.int8)\n",
        "    return r.float().mul_(2).sub_(1)  # {0,1} -> {-1,+1}\n",
        "\n",
        "def make_position_hvs(n_positions: int, dim: int, device=None) -> torch.Tensor:\n",
        "    # We assign each pixel position a random bipolar hypervector.\n",
        "    return _rand_bip((n_positions, dim), device=device or DEVICE)\n",
        "\n",
        "@torch.no_grad()\n",
        "def encode_binary_images_to_hvs(imgs: torch.Tensor,\n",
        "                                pos_hvs: torch.Tensor,\n",
        "                                threshold: float = 0.5) -> torch.Tensor:\n",
        "    # Strategy: binarize -> flatten -> sum position HVs for '1' pixels -> majority sign.\n",
        "    B, C, H, W = imgs.shape\n",
        "    assert C == 1\n",
        "    P = H * W\n",
        "    x = (imgs.view(B, P) >= threshold).to(torch.float32).to(pos_hvs.device)  # [B,P], {0,1}\n",
        "    hv = x @ pos_hvs                                                            # [B,D]\n",
        "    return bipolar_sign(hv)\n",
        "\n",
        "@torch.no_grad()\n",
        "def build_class_prototypes(enc_loader: DataLoader,\n",
        "                           pos_hvs: torch.Tensor,\n",
        "                           n_classes: int = 10,\n",
        "                           threshold: float = 0.5) -> torch.Tensor:\n",
        "    # We bundle all sample HVs per class and sign to get one prototype per class.\n",
        "    D = pos_hvs.shape[1]\n",
        "    accum = torch.zeros((n_classes, D), device=pos_hvs.device, dtype=torch.float32)\n",
        "    for imgs, labels in enc_loader:\n",
        "        imgs   = imgs.to(pos_hvs.device, non_blocking=True)\n",
        "        labels = labels.to(pos_hvs.device, non_blocking=True)\n",
        "        hvs = encode_binary_images_to_hvs(imgs, pos_hvs, threshold=threshold)\n",
        "        for c in range(n_classes):\n",
        "            m = (labels == c)\n",
        "            if m.any():\n",
        "                accum[c] += hvs[m].sum(dim=0)\n",
        "    return bipolar_sign(accum)\n",
        "\n",
        "@torch.no_grad()\n",
        "def cosine_sim(a: torch.Tensor, b: torch.Tensor) -> torch.Tensor:\n",
        "    a32 = a.float(); b32 = b.float()\n",
        "    an = torch.linalg.norm(a32, dim=1, keepdim=True).clamp_min_(1e-8)\n",
        "    bn = torch.linalg.norm(b32, dim=1, keepdim=True).clamp_min_(1e-8).T\n",
        "    return (a32 @ b32.T) / (an * bn)\n",
        "\n",
        "@torch.no_grad()\n",
        "def predict_with_prototypes(imgs: torch.Tensor,\n",
        "                            pos_hvs: torch.Tensor,\n",
        "                            prototypes: torch.Tensor,\n",
        "                            threshold: float = 0.5) -> torch.Tensor:\n",
        "    hvs = encode_binary_images_to_hvs(imgs, pos_hvs, threshold=threshold)\n",
        "    sims = cosine_sim(hvs, prototypes)\n",
        "    return sims.argmax(dim=1)\n",
        "\n",
        "@torch.no_grad()\n",
        "def evaluate_loader(data_loader: DataLoader,\n",
        "                    pos_hvs: torch.Tensor,\n",
        "                    prototypes: torch.Tensor,\n",
        "                    threshold: float = 0.5) -> float:\n",
        "    correct = total = 0\n",
        "    for imgs, labels in data_loader:\n",
        "        imgs   = imgs.to(pos_hvs.device, non_blocking=True)\n",
        "        labels = labels.to(pos_hvs.device, non_blocking=True)\n",
        "        preds = predict_with_prototypes(imgs, pos_hvs, prototypes, threshold=threshold)\n",
        "        correct += (preds == labels).sum().item()\n",
        "        total   += labels.numel()\n",
        "    return 100.0 * correct / total\n"
      ],
      "metadata": {
        "id": "2RO2Z-4TwT6-"
      },
      "execution_count": 3,
      "outputs": []
    },
    {
      "cell_type": "code",
      "source": [],
      "metadata": {
        "id": "LklZi1dMwcW7"
      },
      "execution_count": null,
      "outputs": []
    },
    {
      "cell_type": "markdown",
      "source": [
        "# Model"
      ],
      "metadata": {
        "id": "_FM1m199wi2P"
      }
    },
    {
      "cell_type": "markdown",
      "source": [
        "## Initialize HDC space"
      ],
      "metadata": {
        "id": "z1WkH4_nwnf2"
      }
    },
    {
      "cell_type": "code",
      "source": [
        "DIM = 10_000  # We typically use 8k–20k; 10k is a solid default.\n",
        "H, W = 28, 28\n",
        "P = H * W\n",
        "\n",
        "pos_hvs = make_position_hvs(P, DIM, device=DEVICE)\n",
        "pos_hvs.shape, pos_hvs.device"
      ],
      "metadata": {
        "colab": {
          "base_uri": "https://localhost:8080/"
        },
        "id": "qDM3OmWYwm5M",
        "outputId": "16a1d95b-59ae-4783-c807-571053c4505e"
      },
      "execution_count": 4,
      "outputs": [
        {
          "output_type": "execute_result",
          "data": {
            "text/plain": [
              "(torch.Size([784, 10000]), device(type='cpu'))"
            ]
          },
          "metadata": {},
          "execution_count": 4
        }
      ]
    },
    {
      "cell_type": "markdown",
      "source": [
        "## Train prototypes"
      ],
      "metadata": {
        "id": "hgQP3eIWwkpp"
      }
    },
    {
      "cell_type": "code",
      "source": [
        "t0 = time.time()\n",
        "prototypes = build_class_prototypes(train_loader, pos_hvs, n_classes=10, threshold=0.5)\n",
        "print(\"Prototypes:\", prototypes.shape, \"built in %.2fs\" % (time.time() - t0))\n"
      ],
      "metadata": {
        "colab": {
          "base_uri": "https://localhost:8080/"
        },
        "id": "89GTfYBXwjhu",
        "outputId": "4b6b9f85-d1ea-4cf7-95a1-d41a241bcbf1"
      },
      "execution_count": 5,
      "outputs": [
        {
          "output_type": "stream",
          "name": "stdout",
          "text": [
            "Prototypes: torch.Size([10, 10000]) built in 18.35s\n"
          ]
        }
      ]
    },
    {
      "cell_type": "code",
      "source": [
        "# torch.save(prototypes, \"prototypes_MNIST.pt\")"
      ],
      "metadata": {
        "id": "aOoCn40bxLIu"
      },
      "execution_count": 11,
      "outputs": []
    },
    {
      "cell_type": "markdown",
      "source": [
        "## Evaluate"
      ],
      "metadata": {
        "id": "c_Gc3C6iw4kU"
      }
    },
    {
      "cell_type": "code",
      "source": [
        "# torch.load(\"prototypes_MNIST.pt\")"
      ],
      "metadata": {
        "id": "tfaFfHFKxVsG"
      },
      "execution_count": null,
      "outputs": []
    },
    {
      "cell_type": "code",
      "source": [
        "acc = evaluate_loader(test_loader, pos_hvs, prototypes, threshold=0.5)\n",
        "print(f\"Test accuracy (MNIST): {acc:.2f}%\")"
      ],
      "metadata": {
        "colab": {
          "base_uri": "https://localhost:8080/"
        },
        "id": "0IcdJx-MwvJF",
        "outputId": "9e04c8d8-b200-4fbd-a005-bf8d4b178668"
      },
      "execution_count": 7,
      "outputs": [
        {
          "output_type": "stream",
          "name": "stdout",
          "text": [
            "Test accuracy (MNIST): 81.58%\n"
          ]
        }
      ]
    }
  ]
}
